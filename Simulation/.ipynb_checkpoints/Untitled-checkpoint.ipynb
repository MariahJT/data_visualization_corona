{
 "cells": [
  {
   "cell_type": "code",
   "execution_count": 16,
   "metadata": {},
   "outputs": [],
   "source": [
    "import numpy as np\n",
    "import matplotlib.pyplot as plt \n",
    "import seaborn as sns\n",
    "import pandas as pd\n"
   ]
  },
  {
   "cell_type": "markdown",
   "metadata": {},
   "source": [
    "Le Covid-19 peut être modélisé à l'aide d'un modèle de type Susceptible-Exposed-Infectious-Removed (SEIR).\n",
    "Le package EoN (Epidemics on Networks) permet justement de créer ce genre d'estimation.\n",
    "\n",
    "On estime qu'en France une personne adulte a en moyenne un contact avec 40 autres personnes et que le virus est à un taux de reproduction (R_0) estimé entre 1.4 et 3.2 (https://cmmid.github.io/topics/covid19/current-patterns-transmission/global-time-varying-transmission.html). \n",
    "\n",
    "Sa période d'incubation est de 5 jours et la période de contagion est d'environ 11 jours.\n"
   ]
  },
  {
   "cell_type": "markdown",
   "metadata": {},
   "source": [
    "Le modèle SEIR est un modèle permettant de voir comment une maladie se répend dans la population. \n",
    "\n",
    "L'acronyme tient pour : Suceptible Exposed Infected Recovered (Suspicision Exposé Infecté Rétabli)\n",
    "\n",
    "\n",
    "<center>\n",
    "$\\dot{S}  = \\beta SI$ (1)\n",
    "    \n",
    "    Variation de personnes suceptible de tomber malade, modéré par le nombre de personnes infectés et leur contact avec les infectés\n",
    "</center>\n",
    "<center>\n",
    "$\\dot{E} = \\beta SI - \\alpha E $  (2)\n",
    "    \n",
    "    Nombre de personnes ayant été exposé à la maladie. Croissance basé sur le taux de contact mais diminuer par la période d'incubation \n",
    "</center>\n",
    "<center>\n",
    "$\\dot{I} = \\alpha E - \\gamma I$ (3)\n",
    "    \n",
    "    Variation dans le nombre de personnes infectées basé sur la population exposée and la période d'incubation. Décroit en fonction de la période d'infection, donc plus $\\gamma $ est élévée plus les gens meurent vite ou se restaurent vite ce qui nous envoie vers R le nombre de personne ayant été soigné/restauré.\n",
    "</center>\n",
    "<center>\n",
    "$\\dot{R} \\gamma I$ (4)\n",
    "    \n",
    "    \n",
    "</center>\n",
    "<center>\n",
    "$N = S + E + I +R$ (5)\n",
    "    \n",
    "    Contrainte pour l'assurer que la population reste identique ! \n",
    "</center>\n",
    "3 paramètres : $\\alpha,\\beta,\\gamma  $\n",
    "\n",
    "$\\alpha$ est l'inverse de la période d'incubation (1/incubation)\n",
    "\n",
    "$\\beta$ est le taux moyen de contact de la population\n",
    "\n",
    "$\\gamma$ est l'inverse de la période moyenne d'infection (1/infection)\n",
    "\n",
    "Autre valeur importante : le $R_0$ qui montre à quelle vitesse la maladie se répend et peut être calculé de la manière suivante : \n",
    "\n",
    "\n",
    "<center>$R_0 = \\frac{\\beta}{\\gamma}$ (6)</center>\n",
    "    \n",
    "A nous par la suite de définir une période d'incubation. Ajd, ca semble être 5 jours donc $\\alpha$ semble être aux alentours de 0.2. \n",
    "\n",
    "Le $R_0$ est semblerait il d'après plusieurs papiers autour de 3.5 . A voir en France.\n",
    "\n",
    "Et à l'aide d'un $\\gamma$ défini nous pouvons avec (6) retrouvé $\\beta$\n"
   ]
  },
  {
   "cell_type": "markdown",
   "metadata": {},
   "source": [
    "### Ajout d'un effet de distance sociale\n",
    "\n",
    "Cette fois ci , ajout d'un effet de social distancing qui va avoir un impact sur notre $\\beta$ variable mesurant le taux de contact entre les personnes.\n",
    "\n",
    "Soit $\\rho$ la distanciation sociale variant entre 0 et 1. Où 0 est tout le monde est confiné, 1 tout le monde circule comme il le souhaite. Pour introduire ce dernier facteur, on va simplement changer nos deux premières équations en : \n",
    "\n",
    "<center> $\\dot{S} = -\\rho \\beta SI$ (1') </center>\n",
    "\n",
    "<center> $\\dot{E} = \\rho \\beta SI - \\alpha E $ (2') </center>"
   ]
  },
  {
   "cell_type": "code",
   "execution_count": 22,
   "metadata": {},
   "outputs": [],
   "source": [
    "def SEIR_mano(val_init,coeff,t):\n",
    "    \"\"\"\n",
    "        Input : \n",
    "            val_init : Liste de 4 valeurs initials que va prendre le modèle \n",
    "            coeff : Liste de valeurs pour Alpha,Gamma, Beta et Rho\n",
    "            t :\n",
    "        Output:\n",
    "            \n",
    "    \"\"\"\n",
    "    S0,E0,I0,R0= val_init\n",
    "    S,E,I,R = [S0],[E0],[I0],[R0]\n",
    "    a,b,g,r=coeff\n",
    "    dt = t[1]-t[0]\n",
    "    for _ in t[1:]:\n",
    "        nS = S[-1] - (r*b*S[-1]*I[-1])*dt\n",
    "        nE = E[-1] + (r*b*S[-1]*I[-1]-a*E[-1])*dt\n",
    "        nI = I[-1] + (a*E[-1]-g*I[-1])*dt\n",
    "        nR = R[-1] + (g*I[-1])*dt\n",
    "        S.append(nS)\n",
    "        E.append(nE)\n",
    "        I.append(nI)\n",
    "        R.append(nR)\n",
    "    return np.stack([S,E,I,R]).T"
   ]
  },
  {
   "cell_type": "code",
   "execution_count": 25,
   "metadata": {},
   "outputs": [
    {
     "name": "stdout",
     "output_type": "stream",
     "text": [
      "(0.2, 0.29090909090909095, 0.09090909090909091, 1)\n"
     ]
    }
   ],
   "source": [
    "t = np.linspace(0, 100, int(100/0.1) + 1)\n",
    "incub_time = 5\n",
    "infec_time = 11\n",
    "alpha = 1/incub_time\n",
    "R0 = 3.2\n",
    "gamma = 1/infec_time\n",
    "beta = R0 * gamma\n",
    "rho = 1\n",
    "N = 6000\n",
    "exposed = 1\n",
    "coeff = alpha, beta,gamma,rho\n",
    "print(coeff)\n",
    "init_vals = 1 - exposed/N,1/N,0,0"
   ]
  },
  {
   "cell_type": "code",
   "execution_count": 28,
   "metadata": {},
   "outputs": [],
   "source": [
    "df = pd.DataFrame(SEIR_mano(init_vals,coeff,t),columns=['S','E','I','R'])"
   ]
  },
  {
   "cell_type": "code",
   "execution_count": null,
   "metadata": {},
   "outputs": [],
   "source": []
  }
 ],
 "metadata": {
  "kernelspec": {
   "display_name": "Python 3",
   "language": "python",
   "name": "python3"
  },
  "language_info": {
   "codemirror_mode": {
    "name": "ipython",
    "version": 3
   },
   "file_extension": ".py",
   "mimetype": "text/x-python",
   "name": "python",
   "nbconvert_exporter": "python",
   "pygments_lexer": "ipython3",
   "version": "3.6.4"
  }
 },
 "nbformat": 4,
 "nbformat_minor": 4
}
