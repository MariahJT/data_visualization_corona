{
 "cells": [
  {
   "cell_type": "markdown",
   "metadata": {},
   "source": [
    "Le Covid-19 peut être modélisé à l'aide d'un modèle de type Susceptible-Exposed-Infectious-Removed (SEIR).\n",
    "Le package EoN (Epidemics on Networks) permet justement de créer ce genre d'estimation.\n",
    "\n",
    "On estime qu'en France une personne adulte a en moyenne un contact avec 40 autres personnes et que le virus est à un taux de reproduction (R_0) estimé entre 1.4 et 3.2 (https://cmmid.github.io/topics/covid19/current-patterns-transmission/global-time-varying-transmission.html). \n",
    "\n",
    "Sa période d'incubation est de 5 jours et la période de contagion est d'environ 11 jours.\n"
   ]
  },
  {
   "cell_type": "code",
   "execution_count": null,
   "metadata": {},
   "outputs": [],
   "source": [
    "import EoN\n",
    "import networkx as nx\n",
    "from collections import defaultdict\n",
    "import matplotlib.pyplot as plt\n",
    "import random\n",
    "N = 100000\n",
    "print('generating graph G with {} nodes'.format(N))\n",
    "G = nx.fast_gnp_random_graph(N, 5./(N-1))\n",
    "#We add random variation in the rate of leaving exposed class\n",
    "#and in the partnership transmission rate.\n",
    "#There is no variation in recovery rate.\n",
    "node_attribute_dict = {node: 0.5+random.random() for node in G.nodes()}\n",
    "edge_attribute_dict = {edge: 0.5+random.random() for edge in G.edges()}\n",
    "nx.set_node_attributes(G, values=node_attribute_dict,\n",
    "name='expose2infect_weight')\n",
    "nx.set_edge_attributes(G, values=edge_attribute_dict,\n",
    "name='transmission_weight')\n",
    "#\n",
    "#These individual and partnership attributes will be used to scale\n",
    "#the transition rates. When we define \\texttt{H} and \\texttt{J}, we provide the name\n",
    "#of these attributes.\n",
    "12\n",
    "#More advanced techniques to scale the transmission rates are shown in\n",
    "#the online documentation\n",
    "H = nx.DiGraph() #For the spontaneous transitions\n",
    "H.add_node('S') #This line is actually unnecessary.\n",
    "H.add_edge('E', 'I', rate = 0.6, weight_label='expose2infect_weight')\n",
    "H.add_edge('I', 'R', rate = 0.1)\n",
    "J = nx.DiGraph() #for the induced transitions\n",
    "J.add_edge(('I', 'S'), ('I', 'E'), rate = 0.1,\n",
    "weight_label='transmission_weight')\n",
    "IC = defaultdict(lambda: 'S')\n",
    "for node in range(200):\n",
    "    IC[node] = 'I'\n",
    "return_statuses = ('S', 'E', 'I', 'R')\n",
    "print('doing Gillespie simulation')\n",
    "t, S, E, I, R = EoN.Gillespie_simple_contagion(G, H, J, IC, return_statuses,\n",
    "tmax = float('Inf'))\n",
    "print('done with simulation, now plotting')\n",
    "plt.plot(t, S, label = 'Susceptible')\n",
    "plt.plot(t, E, label = 'Exposed')\n",
    "plt.plot(t, I, label = 'Infected')\n",
    "plt.plot(t, R, label = 'Recovered')\n",
    "plt.xlabel('$t$')\n",
    "plt.ylabel('Simulated numbers')\n",
    "plt.legend()\n",
    "plt.show()"
   ]
  }
 ],
 "metadata": {
  "kernelspec": {
   "display_name": "Python 3",
   "language": "python",
   "name": "python3"
  },
  "language_info": {
   "codemirror_mode": {
    "name": "ipython",
    "version": 3
   },
   "file_extension": ".py",
   "mimetype": "text/x-python",
   "name": "python",
   "nbconvert_exporter": "python",
   "pygments_lexer": "ipython3",
   "version": "3.6.4"
  }
 },
 "nbformat": 4,
 "nbformat_minor": 4
}
